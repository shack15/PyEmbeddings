{
 "cells": [
  {
   "cell_type": "code",
   "execution_count": 2,
   "metadata": {},
   "outputs": [],
   "source": [
    "import pyembeddings\n",
    "\n",
    "pyembeddings.init('f257bbe3-bbc3-4885-90a1-3bd48e6ec591')\n",
    "db = pyembeddings.Database()"
   ]
  },
  {
   "cell_type": "code",
   "execution_count": 25,
   "metadata": {},
   "outputs": [],
   "source": [
    "collection = db.create_collection('first_collection', 'MiniLM')"
   ]
  },
  {
   "cell_type": "code",
   "execution_count": 24,
   "metadata": {},
   "outputs": [
    {
     "ename": "Exception",
     "evalue": "Failed to load collection: {\"detail\":\"{\\\"error\\\":\\\"ValueError('Collection first_collection_db_one does not exist.')\\\"}\"}",
     "output_type": "error",
     "traceback": [
      "\u001b[0;31m---------------------------------------------------------------------------\u001b[0m",
      "\u001b[0;31mException\u001b[0m                                 Traceback (most recent call last)",
      "\u001b[1;32m/Users/adriangri/Documents/programming/silverarrow/PyEmbeddings/tests/database-usage-guide.ipynb Cell 3\u001b[0m line \u001b[0;36m1\n\u001b[0;32m----> <a href='vscode-notebook-cell:/Users/adriangri/Documents/programming/silverarrow/PyEmbeddings/tests/database-usage-guide.ipynb#X10sZmlsZQ%3D%3D?line=0'>1</a>\u001b[0m collection \u001b[39m=\u001b[39m db\u001b[39m.\u001b[39;49mget_collection(\u001b[39m'\u001b[39;49m\u001b[39mfirst_collection\u001b[39;49m\u001b[39m'\u001b[39;49m)\n",
      "File \u001b[0;32m~/Documents/programming/silverarrow/PyEmbeddings/pyembeddings/database.py:58\u001b[0m, in \u001b[0;36mDatabase.get_collection\u001b[0;34m(self, name)\u001b[0m\n\u001b[1;32m     56\u001b[0m     \u001b[39mraise\u001b[39;00m \u001b[39mException\u001b[39;00m(\u001b[39mf\u001b[39m\u001b[39m\"\u001b[39m\u001b[39mCollection \u001b[39m\u001b[39m'\u001b[39m\u001b[39m{\u001b[39;00mname\u001b[39m}\u001b[39;00m\u001b[39m'\u001b[39m\u001b[39m not found.\u001b[39m\u001b[39m\"\u001b[39m)\n\u001b[1;32m     57\u001b[0m \u001b[39melse\u001b[39;00m:\n\u001b[0;32m---> 58\u001b[0m     \u001b[39mraise\u001b[39;00m \u001b[39mException\u001b[39;00m(\u001b[39mf\u001b[39m\u001b[39m\"\u001b[39m\u001b[39mFailed to load collection: \u001b[39m\u001b[39m{\u001b[39;00mresponse\u001b[39m.\u001b[39mtext\u001b[39m}\u001b[39;00m\u001b[39m\"\u001b[39m)\n",
      "\u001b[0;31mException\u001b[0m: Failed to load collection: {\"detail\":\"{\\\"error\\\":\\\"ValueError('Collection first_collection_db_one does not exist.')\\\"}\"}"
     ]
    }
   ],
   "source": [
    "collection = db.get_collection('first_collection')"
   ]
  },
  {
   "cell_type": "code",
   "execution_count": 27,
   "metadata": {},
   "outputs": [
    {
     "name": "stdout",
     "output_type": "stream",
     "text": [
      "{'message': 'Embeddings successfully added to collection'}\n",
      "{'message': 'Embeddings successfully added to collection'}\n"
     ]
    }
   ],
   "source": [
    "addOne = collection.add(\n",
    "  documents=[\"text 1\"], \n",
    "  embeddings=[[0.1, 2.3]], \n",
    "  metadatas=[{\"metadata\": \"value\"}],\n",
    "  ids=[\"id1\"]\n",
    ")\n",
    "print(addOne)\n",
    "\n",
    "addMulti = collection.add(\n",
    "  documents=[\"text 2\", \"text 3\"],\n",
    "  embeddings=[[4.5, 6.7], [8.9, 0.1]],\n",
    "  metadatas=[{\"chapter\": 1}, {\"chapter\": 2, \"verse\": 7}],\n",
    "  ids=[\"id2\", \"id3\"]\n",
    ")\n",
    "print(addMulti)"
   ]
  },
  {
   "cell_type": "code",
   "execution_count": 28,
   "metadata": {},
   "outputs": [
    {
     "name": "stdout",
     "output_type": "stream",
     "text": [
      "{'ids': [['id2', 'id1', 'id3']], 'distances': [[0.00815421583594167, 0.08699128938417167, 0.5427655220388504]], 'embeddings': None, 'metadatas': [[{'chapter': 1}, {'metadata': 'value'}, {'chapter': 2, 'verse': 7}]], 'documents': [['text 2', 'text 1', 'text 3']], 'uris': None, 'data': None}\n",
      "{'ids': [['id1']], 'distances': [[0.08699128938417167]], 'embeddings': None, 'metadatas': [[{'metadata': 'value'}]], 'documents': [['text 1']], 'uris': None, 'data': None}\n",
      "{'ids': [['id3']], 'distances': [[0.5427655220388504]], 'embeddings': None, 'metadatas': [[{'chapter': 2, 'verse': 7}]], 'documents': [['text 3']], 'uris': None, 'data': None}\n",
      "{'ids': [['id2', 'id1', 'id3']], 'distances': None, 'embeddings': [[[4.5, 6.7], [0.1, 2.3], [8.9, 0.1]]], 'metadatas': [[{'chapter': 1}, {'metadata': 'value'}, {'chapter': 2, 'verse': 7}]], 'documents': [['text 2', 'text 1', 'text 3']], 'uris': None, 'data': None}\n"
     ]
    }
   ],
   "source": [
    "query = collection.query(\n",
    "  embedding=[0.1, 0.2], \n",
    "  n_results=5\n",
    ")\n",
    "print(query)\n",
    "\n",
    "queryWithMetadata = collection.query(\n",
    "  embedding=[0.1, 0.2],\n",
    "  n_results=5,\n",
    "  where={\"metadata\": \"value\"}\n",
    ")\n",
    "print(queryWithMetadata)\n",
    "\n",
    "queryWithMetadataFiltering = collection.query(\n",
    "  embedding=[0.1, 0.2],\n",
    "  n_results=5,\n",
    "  where={\"chapter\": {\"$gt\": 1}}\n",
    ")\n",
    "print(queryWithMetadataFiltering)\n",
    "\n",
    "queryWithEmbeddings = collection.query(\n",
    "  embedding=[0.1, 0.2],\n",
    "  n_results=5,\n",
    "  include_embeddings=True\n",
    ")\n",
    "print(queryWithEmbeddings)"
   ]
  },
  {
   "cell_type": "code",
   "execution_count": 29,
   "metadata": {},
   "outputs": [
    {
     "name": "stdout",
     "output_type": "stream",
     "text": [
      "{'ids': ['id1', 'id2'], 'embeddings': None, 'metadatas': [{'metadata': 'value'}, {'chapter': 1}], 'documents': ['text 1', 'text 2'], 'data': None, 'uris': None}\n",
      "{'ids': ['id1'], 'embeddings': None, 'metadatas': [{'metadata': 'value'}], 'documents': ['text 1'], 'data': None, 'uris': None}\n",
      "{'ids': ['id2'], 'embeddings': [[4.5, 6.7]], 'metadatas': [{'chapter': 1}], 'documents': ['text 2'], 'data': None, 'uris': None}\n",
      "{'ids': ['id1'], 'embeddings': None, 'metadatas': [{'metadata': 'value'}], 'documents': ['text 1'], 'data': None, 'uris': None}\n"
     ]
    }
   ],
   "source": [
    "# Fetch by IDs\n",
    "get_response_ids = collection.get(ids=[\"id1\", \"id2\"])\n",
    "print(get_response_ids)\n",
    "\n",
    "# Fetch by metadata\n",
    "get_response_metadata = collection.get(where={\"metadata\": \"value\"})\n",
    "print(get_response_metadata)\n",
    "\n",
    "# Fetch by search string, include embeddings in the fetched results\n",
    "get_response_search = collection.get(\n",
    "  search_string=\"text 2\",\n",
    "  include_embeddings=True\n",
    ")\n",
    "print(get_response_search)\n",
    "\n",
    "# Combined fetch by IDs and metadata\n",
    "get_response_combined = collection.get(ids=[\"id1\"], where={\"metadata\": \"value\"})\n",
    "print(get_response_combined)"
   ]
  },
  {
   "cell_type": "code",
   "execution_count": 13,
   "metadata": {},
   "outputs": [
    {
     "name": "stdout",
     "output_type": "stream",
     "text": [
      "{'count': 3}\n",
      "{'count': 1}\n",
      "{'count': 0}\n"
     ]
    }
   ],
   "source": [
    "print(collection.count())\n",
    "\n",
    "collection.delete(ids=[\"id2\", \"id3\"])\n",
    "print(collection.count())\n",
    "\n",
    "# with a where clause\n",
    "collection.delete(\n",
    "  where={\"metadata\": \"value\"}\n",
    ")\n",
    "print(collection.count())"
   ]
  },
  {
   "cell_type": "code",
   "execution_count": 17,
   "metadata": {},
   "outputs": [],
   "source": [
    "collection.rename(\"new_collection_name\")\n",
    "collection = db.get_collection('new_collection_name')"
   ]
  },
  {
   "cell_type": "code",
   "execution_count": 20,
   "metadata": {},
   "outputs": [
    {
     "data": {
      "text/plain": [
       "{'message': \"Collection 'new_collection_name_db_one' successfully renamed to 'first_collection_db_one'\"}"
      ]
     },
     "execution_count": 20,
     "metadata": {},
     "output_type": "execute_result"
    }
   ],
   "source": [
    "collection.rename(\"first_collection\")"
   ]
  },
  {
   "cell_type": "code",
   "execution_count": 23,
   "metadata": {},
   "outputs": [],
   "source": [
    "db.delete_collection('first_collection')"
   ]
  }
 ],
 "metadata": {
  "kernelspec": {
   "display_name": "Python 3",
   "language": "python",
   "name": "python3"
  },
  "language_info": {
   "codemirror_mode": {
    "name": "ipython",
    "version": 3
   },
   "file_extension": ".py",
   "mimetype": "text/x-python",
   "name": "python",
   "nbconvert_exporter": "python",
   "pygments_lexer": "ipython3",
   "version": "3.11.5"
  }
 },
 "nbformat": 4,
 "nbformat_minor": 2
}
